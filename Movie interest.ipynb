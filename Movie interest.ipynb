{
 "cells": [
  {
   "cell_type": "code",
   "execution_count": 19,
   "id": "d73098e6-368a-4327-9462-6666476d2d8b",
   "metadata": {},
   "outputs": [],
   "source": [
    "import pandas as pd\n",
    "movie_info = pd.read_csv(\"C:\\\\Users\\Rajasrimathi\\Downloads\\Movie Interests.csv\")"
   ]
  },
  {
   "cell_type": "code",
   "execution_count": 20,
   "id": "958ef5c4-57e5-40c0-897d-d52c44f3d4e1",
   "metadata": {},
   "outputs": [
    {
     "data": {
      "text/html": [
       "<div>\n",
       "<style scoped>\n",
       "    .dataframe tbody tr th:only-of-type {\n",
       "        vertical-align: middle;\n",
       "    }\n",
       "\n",
       "    .dataframe tbody tr th {\n",
       "        vertical-align: top;\n",
       "    }\n",
       "\n",
       "    .dataframe thead th {\n",
       "        text-align: right;\n",
       "    }\n",
       "</style>\n",
       "<table border=\"1\" class=\"dataframe\">\n",
       "  <thead>\n",
       "    <tr style=\"text-align: right;\">\n",
       "      <th></th>\n",
       "      <th>Age</th>\n",
       "      <th>Gender</th>\n",
       "      <th>Interest</th>\n",
       "    </tr>\n",
       "  </thead>\n",
       "  <tbody>\n",
       "    <tr>\n",
       "      <th>0</th>\n",
       "      <td>8</td>\n",
       "      <td>1</td>\n",
       "      <td>Animation</td>\n",
       "    </tr>\n",
       "    <tr>\n",
       "      <th>1</th>\n",
       "      <td>11</td>\n",
       "      <td>1</td>\n",
       "      <td>Animation</td>\n",
       "    </tr>\n",
       "    <tr>\n",
       "      <th>2</th>\n",
       "      <td>12</td>\n",
       "      <td>1</td>\n",
       "      <td>Animation</td>\n",
       "    </tr>\n",
       "    <tr>\n",
       "      <th>3</th>\n",
       "      <td>16</td>\n",
       "      <td>1</td>\n",
       "      <td>Action</td>\n",
       "    </tr>\n",
       "    <tr>\n",
       "      <th>4</th>\n",
       "      <td>18</td>\n",
       "      <td>1</td>\n",
       "      <td>Action</td>\n",
       "    </tr>\n",
       "    <tr>\n",
       "      <th>5</th>\n",
       "      <td>19</td>\n",
       "      <td>1</td>\n",
       "      <td>Action</td>\n",
       "    </tr>\n",
       "    <tr>\n",
       "      <th>6</th>\n",
       "      <td>23</td>\n",
       "      <td>1</td>\n",
       "      <td>Drama</td>\n",
       "    </tr>\n",
       "    <tr>\n",
       "      <th>7</th>\n",
       "      <td>26</td>\n",
       "      <td>1</td>\n",
       "      <td>Drama</td>\n",
       "    </tr>\n",
       "    <tr>\n",
       "      <th>8</th>\n",
       "      <td>27</td>\n",
       "      <td>1</td>\n",
       "      <td>Drama</td>\n",
       "    </tr>\n",
       "    <tr>\n",
       "      <th>9</th>\n",
       "      <td>7</td>\n",
       "      <td>0</td>\n",
       "      <td>Animation</td>\n",
       "    </tr>\n",
       "    <tr>\n",
       "      <th>10</th>\n",
       "      <td>9</td>\n",
       "      <td>0</td>\n",
       "      <td>Animation</td>\n",
       "    </tr>\n",
       "    <tr>\n",
       "      <th>11</th>\n",
       "      <td>10</td>\n",
       "      <td>0</td>\n",
       "      <td>Animation</td>\n",
       "    </tr>\n",
       "    <tr>\n",
       "      <th>12</th>\n",
       "      <td>26</td>\n",
       "      <td>0</td>\n",
       "      <td>Action</td>\n",
       "    </tr>\n",
       "    <tr>\n",
       "      <th>13</th>\n",
       "      <td>27</td>\n",
       "      <td>0</td>\n",
       "      <td>Action</td>\n",
       "    </tr>\n",
       "    <tr>\n",
       "      <th>14</th>\n",
       "      <td>30</td>\n",
       "      <td>0</td>\n",
       "      <td>Action</td>\n",
       "    </tr>\n",
       "    <tr>\n",
       "      <th>15</th>\n",
       "      <td>31</td>\n",
       "      <td>0</td>\n",
       "      <td>Drama</td>\n",
       "    </tr>\n",
       "    <tr>\n",
       "      <th>16</th>\n",
       "      <td>34</td>\n",
       "      <td>0</td>\n",
       "      <td>Drama</td>\n",
       "    </tr>\n",
       "    <tr>\n",
       "      <th>17</th>\n",
       "      <td>35</td>\n",
       "      <td>0</td>\n",
       "      <td>Drama</td>\n",
       "    </tr>\n",
       "  </tbody>\n",
       "</table>\n",
       "</div>"
      ],
      "text/plain": [
       "    Age  Gender   Interest\n",
       "0     8       1  Animation\n",
       "1    11       1  Animation\n",
       "2    12       1  Animation\n",
       "3    16       1     Action\n",
       "4    18       1     Action\n",
       "5    19       1     Action\n",
       "6    23       1      Drama\n",
       "7    26       1      Drama\n",
       "8    27       1      Drama\n",
       "9     7       0  Animation\n",
       "10    9       0  Animation\n",
       "11   10       0  Animation\n",
       "12   26       0     Action\n",
       "13   27       0     Action\n",
       "14   30       0     Action\n",
       "15   31       0      Drama\n",
       "16   34       0      Drama\n",
       "17   35       0      Drama"
      ]
     },
     "execution_count": 20,
     "metadata": {},
     "output_type": "execute_result"
    }
   ],
   "source": [
    "movie_info"
   ]
  },
  {
   "cell_type": "code",
   "execution_count": 21,
   "id": "576e47c9-e2f3-4640-b74d-6603765b162d",
   "metadata": {},
   "outputs": [],
   "source": [
    "input_dataset = movie_info.drop(columns=['Interest'])"
   ]
  },
  {
   "cell_type": "code",
   "execution_count": 22,
   "id": "0e84ced2-f0cb-4868-a1ad-e26c1fa83c89",
   "metadata": {},
   "outputs": [],
   "source": [
    "output_dataset = movie_info['Interest']"
   ]
  },
  {
   "cell_type": "code",
   "execution_count": 23,
   "id": "0e5eae38-f223-4ed0-97f8-df00075d64ec",
   "metadata": {},
   "outputs": [
    {
     "data": {
      "text/plain": [
       "0     Animation\n",
       "1     Animation\n",
       "2     Animation\n",
       "3        Action\n",
       "4        Action\n",
       "5        Action\n",
       "6         Drama\n",
       "7         Drama\n",
       "8         Drama\n",
       "9     Animation\n",
       "10    Animation\n",
       "11    Animation\n",
       "12       Action\n",
       "13       Action\n",
       "14       Action\n",
       "15        Drama\n",
       "16        Drama\n",
       "17        Drama\n",
       "Name: Interest, dtype: object"
      ]
     },
     "execution_count": 23,
     "metadata": {},
     "output_type": "execute_result"
    }
   ],
   "source": [
    "output_dataset"
   ]
  },
  {
   "cell_type": "code",
   "execution_count": 24,
   "id": "a3bd4e81-a787-4b19-92de-e66f7b46e580",
   "metadata": {},
   "outputs": [
    {
     "name": "stderr",
     "output_type": "stream",
     "text": [
      "C:\\ProgramData\\anaconda3\\Lib\\site-packages\\sklearn\\utils\\validation.py:2739: UserWarning: X does not have valid feature names, but DecisionTreeClassifier was fitted with feature names\n",
      "  warnings.warn(\n"
     ]
    }
   ],
   "source": [
    "from sklearn.tree import DecisionTreeClassifier\n",
    "movie_model = DecisionTreeClassifier()\n",
    "movie_model.fit(input_dataset,output_dataset)\n",
    "movie_interest=movie_model.predict([[9,1],[33,0]])"
   ]
  },
  {
   "cell_type": "code",
   "execution_count": 26,
   "id": "4a4a6240-f6e7-46e4-add8-f21eab8fee47",
   "metadata": {},
   "outputs": [
    {
     "data": {
      "text/plain": [
       "array(['Animation', 'Drama'], dtype=object)"
      ]
     },
     "execution_count": 26,
     "metadata": {},
     "output_type": "execute_result"
    }
   ],
   "source": [
    "movie_interest"
   ]
  },
  {
   "cell_type": "code",
   "execution_count": 27,
   "id": "43fb1d9d-1a51-469c-bcb8-3b6d72c0366f",
   "metadata": {},
   "outputs": [
    {
     "name": "stderr",
     "output_type": "stream",
     "text": [
      "C:\\ProgramData\\anaconda3\\Lib\\site-packages\\sklearn\\utils\\validation.py:2739: UserWarning: X does not have valid feature names, but LogisticRegression was fitted with feature names\n",
      "  warnings.warn(\n"
     ]
    }
   ],
   "source": [
    "from sklearn.linear_model import LogisticRegression\n",
    "movie_model = LogisticRegression()\n",
    "movie_model.fit(input_dataset,output_dataset)\n",
    "movie_interest=movie_model.predict([[9,1],[33,0]])"
   ]
  },
  {
   "cell_type": "code",
   "execution_count": 28,
   "id": "cddfabc8-f2f6-4803-ac46-52f79e6dded7",
   "metadata": {},
   "outputs": [
    {
     "data": {
      "text/plain": [
       "array(['Animation', 'Drama'], dtype=object)"
      ]
     },
     "execution_count": 28,
     "metadata": {},
     "output_type": "execute_result"
    }
   ],
   "source": [
    "movie_interest"
   ]
  },
  {
   "cell_type": "code",
   "execution_count": 33,
   "id": "572b540e-c2c7-4808-a3dd-b859e8d25091",
   "metadata": {},
   "outputs": [],
   "source": [
    "import pickle"
   ]
  },
  {
   "cell_type": "code",
   "execution_count": 36,
   "id": "3e36a5d8-98cd-42ef-b791-dc3524edcf24",
   "metadata": {},
   "outputs": [],
   "source": [
    "pickle.dump(movie_model,open('movie.pkl','wb'))"
   ]
  },
  {
   "cell_type": "code",
   "execution_count": 39,
   "id": "b1b60bd2-e499-4bdb-a848-630eb373c4e5",
   "metadata": {},
   "outputs": [
    {
     "name": "stdout",
     "output_type": "stream",
     "text": [
      "['Animation' 'Drama']\n"
     ]
    },
    {
     "name": "stderr",
     "output_type": "stream",
     "text": [
      "C:\\ProgramData\\anaconda3\\Lib\\site-packages\\sklearn\\utils\\validation.py:2739: UserWarning: X does not have valid feature names, but LogisticRegression was fitted with feature names\n",
      "  warnings.warn(\n"
     ]
    }
   ],
   "source": [
    "model1 = pickle.load(open('movie.pkl','rb'))\n",
    "print(model1.predict([[9,1],[33,0]]))"
   ]
  },
  {
   "cell_type": "code",
   "execution_count": null,
   "id": "bc9eb2b1-2628-497f-b7d1-9fb29592247f",
   "metadata": {},
   "outputs": [],
   "source": []
  }
 ],
 "metadata": {
  "kernelspec": {
   "display_name": "Python 3 (ipykernel)",
   "language": "python",
   "name": "python3"
  },
  "language_info": {
   "codemirror_mode": {
    "name": "ipython",
    "version": 3
   },
   "file_extension": ".py",
   "mimetype": "text/x-python",
   "name": "python",
   "nbconvert_exporter": "python",
   "pygments_lexer": "ipython3",
   "version": "3.13.5"
  }
 },
 "nbformat": 4,
 "nbformat_minor": 5
}
