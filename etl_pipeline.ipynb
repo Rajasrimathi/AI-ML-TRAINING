{
 "cells": [
  {
   "cell_type": "code",
   "execution_count": 1,
   "id": "50e4fe40-2060-4892-9954-c6544abcdc6e",
   "metadata": {},
   "outputs": [],
   "source": [
    "import os\n",
    "import pandas as pd\n"
   ]
  },
  {
   "cell_type": "code",
   "execution_count": 2,
   "id": "65890c93-f31f-4e61-8ad0-eeb07d6847f6",
   "metadata": {},
   "outputs": [
    {
     "name": "stdout",
     "output_type": "stream",
     "text": [
      "📁 'data/' folder already exists.\n"
     ]
    }
   ],
   "source": [
    "data_folder = 'data/'\n",
    "if not os.path.exists(data_folder):\n",
    "    os.makedirs(data_folder)\n",
    "    print(\"✅ 'data/' folder created.\")\n",
    "else:\n",
    "    print(\"📁 'data/' folder already exists.\")\n"
   ]
  },
  {
   "cell_type": "code",
   "execution_count": 3,
   "id": "095d611f-4523-4290-95d4-b1b22021e229",
   "metadata": {},
   "outputs": [
    {
     "name": "stdout",
     "output_type": "stream",
     "text": [
      "✅ Sample CSV files created.\n"
     ]
    }
   ],
   "source": [
    "data1 = {\n",
    "    'Store_ID': ['S001']*3,\n",
    "    'Date': ['2025-07-15']*3,\n",
    "    'Product_ID': ['P001', 'P002', 'P003'],\n",
    "    'Product_Name': ['Soap', 'Shampoo', 'Toothpaste'],\n",
    "    'Quantity_Sold': [10, 5, 8],\n",
    "    'Unit_Price': [20.0, 100.0, 35.0],\n",
    "    'Discount_Percent': [5.0, 10.0, 0.0],\n",
    "    'Payment_Mode': ['Cash', 'Card', 'UPI']\n",
    "}\n",
    "\n",
    "data2 = {\n",
    "    'Store_ID': ['S002']*3,\n",
    "    'Date': ['2025-07-15']*3,\n",
    "    'Product_ID': ['P004', 'P005', 'P006'],\n",
    "    'Product_Name': ['Notebook', 'Pen', 'Pencil'],\n",
    "    'Quantity_Sold': [3, 20, 30],\n",
    "    'Unit_Price': [50.0, 10.0, 5.0],\n",
    "    'Discount_Percent': [0.0, 5.0, 2.0],\n",
    "    'Payment_Mode': ['Wallet', 'Cash', 'Card']\n",
    "}\n",
    "\n",
    "data3 = {\n",
    "    'Store_ID': ['S003']*2,\n",
    "    'Date': ['2025-07-16', '2025-07-16'],\n",
    "    'Product_ID': ['P007', 'P008'],\n",
    "    'Product_Name': ['Bag', 'Shoes'],\n",
    "    'Quantity_Sold': [1, 2],\n",
    "    'Unit_Price': [700.0, 1200.0],\n",
    "    'Discount_Percent': [15.0, 20.0],\n",
    "    'Payment_Mode': ['Card', 'UPI']\n",
    "}\n",
    "\n",
    "pd.DataFrame(data1).to_csv('data/store_S001_day1.csv', index=False)\n",
    "pd.DataFrame(data2).to_csv('data/store_S002_day1.csv', index=False)\n",
    "pd.DataFrame(data3).to_csv('data/store_S003_day2.csv', index=False)\n",
    "\n",
    "print(\"✅ Sample CSV files created.\")\n"
   ]
  },
  {
   "cell_type": "code",
   "execution_count": 4,
   "id": "223d2f3d-545c-446f-aa27-7b0c14390704",
   "metadata": {},
   "outputs": [
    {
     "name": "stdout",
     "output_type": "stream",
     "text": [
      "✅ Loaded 3 CSV files.\n"
     ]
    },
    {
     "data": {
      "text/html": [
       "<div>\n",
       "<style scoped>\n",
       "    .dataframe tbody tr th:only-of-type {\n",
       "        vertical-align: middle;\n",
       "    }\n",
       "\n",
       "    .dataframe tbody tr th {\n",
       "        vertical-align: top;\n",
       "    }\n",
       "\n",
       "    .dataframe thead th {\n",
       "        text-align: right;\n",
       "    }\n",
       "</style>\n",
       "<table border=\"1\" class=\"dataframe\">\n",
       "  <thead>\n",
       "    <tr style=\"text-align: right;\">\n",
       "      <th></th>\n",
       "      <th>Store_ID</th>\n",
       "      <th>Date</th>\n",
       "      <th>Product_ID</th>\n",
       "      <th>Product_Name</th>\n",
       "      <th>Quantity_Sold</th>\n",
       "      <th>Unit_Price</th>\n",
       "      <th>Discount_Percent</th>\n",
       "      <th>Payment_Mode</th>\n",
       "    </tr>\n",
       "  </thead>\n",
       "  <tbody>\n",
       "    <tr>\n",
       "      <th>0</th>\n",
       "      <td>S001</td>\n",
       "      <td>2025-07-15</td>\n",
       "      <td>P001</td>\n",
       "      <td>Soap</td>\n",
       "      <td>10</td>\n",
       "      <td>20.0</td>\n",
       "      <td>5.0</td>\n",
       "      <td>Cash</td>\n",
       "    </tr>\n",
       "    <tr>\n",
       "      <th>1</th>\n",
       "      <td>S001</td>\n",
       "      <td>2025-07-15</td>\n",
       "      <td>P002</td>\n",
       "      <td>Shampoo</td>\n",
       "      <td>5</td>\n",
       "      <td>100.0</td>\n",
       "      <td>10.0</td>\n",
       "      <td>Card</td>\n",
       "    </tr>\n",
       "    <tr>\n",
       "      <th>2</th>\n",
       "      <td>S001</td>\n",
       "      <td>2025-07-15</td>\n",
       "      <td>P003</td>\n",
       "      <td>Toothpaste</td>\n",
       "      <td>8</td>\n",
       "      <td>35.0</td>\n",
       "      <td>0.0</td>\n",
       "      <td>UPI</td>\n",
       "    </tr>\n",
       "    <tr>\n",
       "      <th>3</th>\n",
       "      <td>S002</td>\n",
       "      <td>2025-07-15</td>\n",
       "      <td>P004</td>\n",
       "      <td>Notebook</td>\n",
       "      <td>3</td>\n",
       "      <td>50.0</td>\n",
       "      <td>0.0</td>\n",
       "      <td>Wallet</td>\n",
       "    </tr>\n",
       "    <tr>\n",
       "      <th>4</th>\n",
       "      <td>S002</td>\n",
       "      <td>2025-07-15</td>\n",
       "      <td>P005</td>\n",
       "      <td>Pen</td>\n",
       "      <td>20</td>\n",
       "      <td>10.0</td>\n",
       "      <td>5.0</td>\n",
       "      <td>Cash</td>\n",
       "    </tr>\n",
       "  </tbody>\n",
       "</table>\n",
       "</div>"
      ],
      "text/plain": [
       "  Store_ID        Date Product_ID Product_Name  Quantity_Sold  Unit_Price  \\\n",
       "0     S001  2025-07-15       P001         Soap             10        20.0   \n",
       "1     S001  2025-07-15       P002      Shampoo              5       100.0   \n",
       "2     S001  2025-07-15       P003   Toothpaste              8        35.0   \n",
       "3     S002  2025-07-15       P004     Notebook              3        50.0   \n",
       "4     S002  2025-07-15       P005          Pen             20        10.0   \n",
       "\n",
       "   Discount_Percent Payment_Mode  \n",
       "0               5.0         Cash  \n",
       "1              10.0         Card  \n",
       "2               0.0          UPI  \n",
       "3               0.0       Wallet  \n",
       "4               5.0         Cash  "
      ]
     },
     "execution_count": 4,
     "metadata": {},
     "output_type": "execute_result"
    }
   ],
   "source": [
    "csv_files = [os.path.join('data', f) for f in os.listdir('data') if f.endswith('.csv')]\n",
    "df_list = [pd.read_csv(file) for file in csv_files]\n",
    "df = pd.concat(df_list, ignore_index=True)\n",
    "\n",
    "print(f\"✅ Loaded {len(csv_files)} CSV files.\")\n",
    "df.head()"
   ]
  },
  {
   "cell_type": "code",
   "execution_count": 5,
   "id": "2bb339f3-1d48-42a5-8d9f-cd21b3dc32aa",
   "metadata": {},
   "outputs": [
    {
     "data": {
      "text/html": [
       "<div>\n",
       "<style scoped>\n",
       "    .dataframe tbody tr th:only-of-type {\n",
       "        vertical-align: middle;\n",
       "    }\n",
       "\n",
       "    .dataframe tbody tr th {\n",
       "        vertical-align: top;\n",
       "    }\n",
       "\n",
       "    .dataframe thead th {\n",
       "        text-align: right;\n",
       "    }\n",
       "</style>\n",
       "<table border=\"1\" class=\"dataframe\">\n",
       "  <thead>\n",
       "    <tr style=\"text-align: right;\">\n",
       "      <th></th>\n",
       "      <th>store_id</th>\n",
       "      <th>date</th>\n",
       "      <th>product_id</th>\n",
       "      <th>product_name</th>\n",
       "      <th>quantity_sold</th>\n",
       "      <th>unit_price</th>\n",
       "      <th>discount_percent</th>\n",
       "      <th>payment_mode</th>\n",
       "      <th>total_sale_value</th>\n",
       "      <th>sales_category</th>\n",
       "    </tr>\n",
       "  </thead>\n",
       "  <tbody>\n",
       "    <tr>\n",
       "      <th>0</th>\n",
       "      <td>S001</td>\n",
       "      <td>2025-07-15</td>\n",
       "      <td>P001</td>\n",
       "      <td>Soap</td>\n",
       "      <td>10</td>\n",
       "      <td>20.0</td>\n",
       "      <td>5.0</td>\n",
       "      <td>Cash</td>\n",
       "      <td>190.0</td>\n",
       "      <td>Low</td>\n",
       "    </tr>\n",
       "    <tr>\n",
       "      <th>1</th>\n",
       "      <td>S001</td>\n",
       "      <td>2025-07-15</td>\n",
       "      <td>P002</td>\n",
       "      <td>Shampoo</td>\n",
       "      <td>5</td>\n",
       "      <td>100.0</td>\n",
       "      <td>10.0</td>\n",
       "      <td>Card</td>\n",
       "      <td>450.0</td>\n",
       "      <td>Low</td>\n",
       "    </tr>\n",
       "    <tr>\n",
       "      <th>2</th>\n",
       "      <td>S001</td>\n",
       "      <td>2025-07-15</td>\n",
       "      <td>P003</td>\n",
       "      <td>Toothpaste</td>\n",
       "      <td>8</td>\n",
       "      <td>35.0</td>\n",
       "      <td>0.0</td>\n",
       "      <td>UPI</td>\n",
       "      <td>280.0</td>\n",
       "      <td>Low</td>\n",
       "    </tr>\n",
       "    <tr>\n",
       "      <th>3</th>\n",
       "      <td>S002</td>\n",
       "      <td>2025-07-15</td>\n",
       "      <td>P004</td>\n",
       "      <td>Notebook</td>\n",
       "      <td>3</td>\n",
       "      <td>50.0</td>\n",
       "      <td>0.0</td>\n",
       "      <td>Wallet</td>\n",
       "      <td>150.0</td>\n",
       "      <td>Low</td>\n",
       "    </tr>\n",
       "    <tr>\n",
       "      <th>4</th>\n",
       "      <td>S002</td>\n",
       "      <td>2025-07-15</td>\n",
       "      <td>P005</td>\n",
       "      <td>Pen</td>\n",
       "      <td>20</td>\n",
       "      <td>10.0</td>\n",
       "      <td>5.0</td>\n",
       "      <td>Cash</td>\n",
       "      <td>190.0</td>\n",
       "      <td>Low</td>\n",
       "    </tr>\n",
       "  </tbody>\n",
       "</table>\n",
       "</div>"
      ],
      "text/plain": [
       "  store_id       date product_id product_name  quantity_sold  unit_price  \\\n",
       "0     S001 2025-07-15       P001         Soap             10        20.0   \n",
       "1     S001 2025-07-15       P002      Shampoo              5       100.0   \n",
       "2     S001 2025-07-15       P003   Toothpaste              8        35.0   \n",
       "3     S002 2025-07-15       P004     Notebook              3        50.0   \n",
       "4     S002 2025-07-15       P005          Pen             20        10.0   \n",
       "\n",
       "   discount_percent payment_mode  total_sale_value sales_category  \n",
       "0               5.0         Cash             190.0            Low  \n",
       "1              10.0         Card             450.0            Low  \n",
       "2               0.0          UPI             280.0            Low  \n",
       "3               0.0       Wallet             150.0            Low  \n",
       "4               5.0         Cash             190.0            Low  "
      ]
     },
     "execution_count": 5,
     "metadata": {},
     "output_type": "execute_result"
    }
   ],
   "source": [
    "df.dropna(inplace=True)\n",
    "\n",
    "df.columns = df.columns.str.lower()\n",
    "\n",
    "df['date'] = pd.to_datetime(df['date'])\n",
    "\n",
    "df.drop_duplicates(subset=['store_id', 'date', 'product_id'], inplace=True)\n",
    "\n",
    "df['total_sale_value'] = df['quantity_sold'] * df['unit_price'] * (1 - df['discount_percent'] / 100)\n",
    "\n",
    "import numpy as np\n",
    "df['sales_category'] = np.where(df['total_sale_value'] >= 10000, 'High',\n",
    "                         np.where(df['total_sale_value'] >= 5000, 'Medium', 'Low'))\n",
    "\n",
    "df.head()\n"
   ]
  },
  {
   "cell_type": "code",
   "execution_count": 6,
   "id": "d1193a13-de4c-44bb-b204-29c82df02495",
   "metadata": {},
   "outputs": [
    {
     "name": "stdout",
     "output_type": "stream",
     "text": [
      "✅ Data inserted into MySQL table.\n"
     ]
    }
   ],
   "source": [
    "from sqlalchemy import create_engine\n",
    "user = 'root'\n",
    "password = 'root'\n",
    "host = 'localhost'\n",
    "database = 'retail_db'\n",
    "\n",
    "engine = create_engine(f\"mysql+mysqlconnector://{user}:{password}@{host}/{database}\")\n",
    "# Save to MySQL\n",
    "df.to_sql('retail_sales', con=engine, if_exists='append', index=False, method='multi')\n",
    "print(\"✅ Data inserted into MySQL table.\")"
   ]
  },
  {
   "cell_type": "code",
   "execution_count": 8,
   "id": "f02f67c7-9fd0-4815-8830-3f167cc8d542",
   "metadata": {},
   "outputs": [],
   "source": [
    "# Total sales per store\n",
    "store_sales = df.groupby('store_id')['total_sale_value'].sum().reset_index()\n",
    "\n",
    "# Top 5 products\n",
    "top_5_products = df.groupby('product_name')['total_sale_value'].sum().nlargest(5).reset_index()\n",
    "\n",
    "# Daily sales per store\n",
    "daily_sales = df.groupby(['store_id', 'date'])['total_sale_value'].sum().reset_index()\n",
    "\n"
   ]
  },
  {
   "cell_type": "code",
   "execution_count": 9,
   "id": "fd431ee8-1976-4924-bc2c-612df8a4908d",
   "metadata": {},
   "outputs": [
    {
     "name": "stdout",
     "output_type": "stream",
     "text": [
      "✅ Reports exported as CSV files.\n"
     ]
    }
   ],
   "source": [
    "store_sales.to_csv('store_sales_summary.csv', index=False)\n",
    "top_5_products.to_csv('top_5_products.csv', index=False)\n",
    "daily_sales.to_csv('daily_sales_trend.csv', index=False)\n",
    "\n",
    "print(\"✅ Reports exported as CSV files.\")\n",
    "\n"
   ]
  },
  {
   "cell_type": "code",
   "execution_count": null,
   "id": "e10b1904-d7d4-4277-a4fe-f3b1a4492ca7",
   "metadata": {},
   "outputs": [],
   "source": []
  }
 ],
 "metadata": {
  "kernelspec": {
   "display_name": "Python 3 (ipykernel)",
   "language": "python",
   "name": "python3"
  },
  "language_info": {
   "codemirror_mode": {
    "name": "ipython",
    "version": 3
   },
   "file_extension": ".py",
   "mimetype": "text/x-python",
   "name": "python",
   "nbconvert_exporter": "python",
   "pygments_lexer": "ipython3",
   "version": "3.13.5"
  }
 },
 "nbformat": 4,
 "nbformat_minor": 5
}
