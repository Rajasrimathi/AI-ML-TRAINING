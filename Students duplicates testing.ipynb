{
 "cells": [
  {
   "cell_type": "code",
   "execution_count": 1,
   "id": "03ab53b3-2c61-4a07-a663-4343f8d6c9fb",
   "metadata": {},
   "outputs": [],
   "source": [
    "import numpy as np"
   ]
  },
  {
   "cell_type": "code",
   "execution_count": 2,
   "id": "b8fa67d5-7791-4fb4-a322-17553a8a7c44",
   "metadata": {},
   "outputs": [
    {
     "name": "stdin",
     "output_type": "stream",
     "text": [
      "Enter number of test cases: 1\n"
     ]
    }
   ],
   "source": [
    "t = int(input(\"Enter number of test cases:\"))"
   ]
  },
  {
   "cell_type": "code",
   "execution_count": 6,
   "id": "2be98aaf-1e5a-49bf-8289-079105db2dfd",
   "metadata": {},
   "outputs": [
    {
     "name": "stdin",
     "output_type": "stream",
     "text": [
      "Enter space-separated integers for test case 1:  0 0 3 0 2 4 2 2 2 2\n"
     ]
    }
   ],
   "source": [
    "for test in range(t):\n",
    "    # Input numpy array\n",
    "    arr = np.array(list(map(int, input(f\"Enter space-separated integers for test case {test + 1}: \").split())))\n",
    "\n",
    "    #Use np.unique to find first occurrence indices\n",
    "    _, first_indices = np.unique(arr, return_index=True)\n",
    "\n",
    "    # Initialize all to True, meaning all are considered duplicates initially\n",
    "    is_duplicate = np.full(arr.shape,True,dtype=bool)\n",
    "\n",
    "    #Set first occurrences to False\n",
    "    is_duplicate[first_indices]=False"
   ]
  },
  {
   "cell_type": "code",
   "execution_count": 8,
   "id": "a075b992-0d36-4bbc-a699-0aec4b2430ed",
   "metadata": {},
   "outputs": [
    {
     "name": "stdout",
     "output_type": "stream",
     "text": [
      "[False  True False  True False False  True  True  True  True]\n"
     ]
    }
   ],
   "source": [
    "print(is_duplicate)"
   ]
  },
  {
   "cell_type": "code",
   "execution_count": null,
   "id": "32bf33bf-1a70-438d-888d-35dbcc0204a0",
   "metadata": {},
   "outputs": [],
   "source": []
  }
 ],
 "metadata": {
  "kernelspec": {
   "display_name": "Python 3 (ipykernel)",
   "language": "python",
   "name": "python3"
  },
  "language_info": {
   "codemirror_mode": {
    "name": "ipython",
    "version": 3
   },
   "file_extension": ".py",
   "mimetype": "text/x-python",
   "name": "python",
   "nbconvert_exporter": "python",
   "pygments_lexer": "ipython3",
   "version": "3.13.5"
  }
 },
 "nbformat": 4,
 "nbformat_minor": 5
}
