{
 "cells": [
  {
   "cell_type": "code",
   "execution_count": 1,
   "id": "9d551a4d-152b-4914-98e2-3fcf7ddc5d90",
   "metadata": {},
   "outputs": [],
   "source": [
    "#pip install beautifulsoup4"
   ]
  },
  {
   "cell_type": "code",
   "execution_count": 2,
   "id": "1bc2c83c-f817-4b56-a7d6-0dc4369d413c",
   "metadata": {},
   "outputs": [],
   "source": [
    "#pip install beautifulsoup4 requests"
   ]
  },
  {
   "cell_type": "code",
   "execution_count": 3,
   "id": "c5d11d31-371b-43d8-a3df-655f3c75c7a6",
   "metadata": {},
   "outputs": [],
   "source": [
    "import requests"
   ]
  },
  {
   "cell_type": "code",
   "execution_count": 4,
   "id": "129b5032-49c8-4d8a-998a-fd62f2c6cddb",
   "metadata": {},
   "outputs": [],
   "source": [
    "from bs4 import BeautifulSoup"
   ]
  },
  {
   "cell_type": "code",
   "execution_count": 18,
   "id": "4db3b5b7-4492-400a-a3c1-a14ee0b19be9",
   "metadata": {},
   "outputs": [],
   "source": [
    "import pandas as pd"
   ]
  },
  {
   "cell_type": "code",
   "execution_count": 5,
   "id": "73b1efbd-ad93-4738-93a6-12581a4155ea",
   "metadata": {},
   "outputs": [],
   "source": [
    "#Target URL\n",
    "url = \"http://books.toscrape.com\"\n"
   ]
  },
  {
   "cell_type": "code",
   "execution_count": 6,
   "id": "c40ecc76-1afc-497b-9916-3b582317b8b5",
   "metadata": {},
   "outputs": [],
   "source": [
    "#Send a GET request\n",
    "response = requests.get(url)"
   ]
  },
  {
   "cell_type": "code",
   "execution_count": 7,
   "id": "fabdc81d-df0a-45a3-ab24-a03f69078c72",
   "metadata": {},
   "outputs": [],
   "source": [
    "#Parse the HTML\n",
    "soup = BeautifulSoup(response.text,'html.parser')"
   ]
  },
  {
   "cell_type": "code",
   "execution_count": 10,
   "id": "db2c5c72-bdbd-4db4-aaaf-3ba57b0a9644",
   "metadata": {},
   "outputs": [],
   "source": [
    "#Find all book containers\n",
    "books = soup.find_all('article',class_='product_pod')"
   ]
  },
  {
   "cell_type": "code",
   "execution_count": 12,
   "id": "79f5ca1f-3631-45b5-932e-6321265de3d9",
   "metadata": {},
   "outputs": [
    {
     "name": "stdout",
     "output_type": "stream",
     "text": [
      "Title:A Light in the Attic\n",
      "Price:Â£51.77\n",
      "\n",
      "Title:Tipping the Velvet\n",
      "Price:Â£53.74\n",
      "\n",
      "Title:Soumission\n",
      "Price:Â£50.10\n",
      "\n",
      "Title:Sharp Objects\n",
      "Price:Â£47.82\n",
      "\n",
      "Title:Sapiens: A Brief History of Humankind\n",
      "Price:Â£54.23\n",
      "\n",
      "Title:The Requiem Red\n",
      "Price:Â£22.65\n",
      "\n",
      "Title:The Dirty Little Secrets of Getting Your Dream Job\n",
      "Price:Â£33.34\n",
      "\n",
      "Title:The Coming Woman: A Novel Based on the Life of the Infamous Feminist, Victoria Woodhull\n",
      "Price:Â£17.93\n",
      "\n",
      "Title:The Boys in the Boat: Nine Americans and Their Epic Quest for Gold at the 1936 Berlin Olympics\n",
      "Price:Â£22.60\n",
      "\n",
      "Title:The Black Maria\n",
      "Price:Â£52.15\n",
      "\n",
      "Title:Starving Hearts (Triangular Trade Trilogy, #1)\n",
      "Price:Â£13.99\n",
      "\n",
      "Title:Shakespeare's Sonnets\n",
      "Price:Â£20.66\n",
      "\n",
      "Title:Set Me Free\n",
      "Price:Â£17.46\n",
      "\n",
      "Title:Scott Pilgrim's Precious Little Life (Scott Pilgrim #1)\n",
      "Price:Â£52.29\n",
      "\n",
      "Title:Rip it Up and Start Again\n",
      "Price:Â£35.02\n",
      "\n",
      "Title:Our Band Could Be Your Life: Scenes from the American Indie Underground, 1981-1991\n",
      "Price:Â£57.25\n",
      "\n",
      "Title:Olio\n",
      "Price:Â£23.88\n",
      "\n",
      "Title:Mesaerion: The Best Science Fiction Stories 1800-1849\n",
      "Price:Â£37.59\n",
      "\n",
      "Title:Libertarianism for Beginners\n",
      "Price:Â£51.33\n",
      "\n",
      "Title:It's Only the Himalayas\n",
      "Price:Â£45.17\n",
      "\n"
     ]
    }
   ],
   "source": [
    "for book in books:\n",
    "    title= book.h3.a['title']\n",
    "    price= book.find('p',class_='price_color').text\n",
    "    print(f\"Title:{title}\\nPrice:{price}\\n\")"
   ]
  },
  {
   "cell_type": "code",
   "execution_count": 19,
   "id": "d420b823-2468-4a69-b266-c6ab29d6a3ba",
   "metadata": {},
   "outputs": [
    {
     "name": "stdout",
     "output_type": "stream",
     "text": [
      "                                              0\n",
      "0                                            \\n\n",
      "1                                [\\n, [[]], \\n]\n",
      "2                                            \\n\n",
      "3  [\\n, [], \\n, [], \\n, [], \\n, [], \\n, [], \\n]\n",
      "4                                            \\n\n"
     ]
    }
   ],
   "source": [
    "df = pd.DataFrame(book)\n",
    "print(df.head())"
   ]
  },
  {
   "cell_type": "code",
   "execution_count": 20,
   "id": "d9b01b72-8716-44ae-b356-035170876fe8",
   "metadata": {},
   "outputs": [],
   "source": [
    "#Find all book containers\n",
    "book_data = []\n",
    "books = soup.find_all('article',class_='product_pod')"
   ]
  },
  {
   "cell_type": "code",
   "execution_count": 21,
   "id": "309559c7-e7dd-47f0-851f-844bd7c71c2e",
   "metadata": {},
   "outputs": [
    {
     "name": "stdout",
     "output_type": "stream",
     "text": [
      "Title:A Light in the Attic\n",
      "Price:Â£51.77\n",
      "\n",
      "Title:Tipping the Velvet\n",
      "Price:Â£53.74\n",
      "\n",
      "Title:Soumission\n",
      "Price:Â£50.10\n",
      "\n",
      "Title:Sharp Objects\n",
      "Price:Â£47.82\n",
      "\n",
      "Title:Sapiens: A Brief History of Humankind\n",
      "Price:Â£54.23\n",
      "\n",
      "Title:The Requiem Red\n",
      "Price:Â£22.65\n",
      "\n",
      "Title:The Dirty Little Secrets of Getting Your Dream Job\n",
      "Price:Â£33.34\n",
      "\n",
      "Title:The Coming Woman: A Novel Based on the Life of the Infamous Feminist, Victoria Woodhull\n",
      "Price:Â£17.93\n",
      "\n",
      "Title:The Boys in the Boat: Nine Americans and Their Epic Quest for Gold at the 1936 Berlin Olympics\n",
      "Price:Â£22.60\n",
      "\n",
      "Title:The Black Maria\n",
      "Price:Â£52.15\n",
      "\n",
      "Title:Starving Hearts (Triangular Trade Trilogy, #1)\n",
      "Price:Â£13.99\n",
      "\n",
      "Title:Shakespeare's Sonnets\n",
      "Price:Â£20.66\n",
      "\n",
      "Title:Set Me Free\n",
      "Price:Â£17.46\n",
      "\n",
      "Title:Scott Pilgrim's Precious Little Life (Scott Pilgrim #1)\n",
      "Price:Â£52.29\n",
      "\n",
      "Title:Rip it Up and Start Again\n",
      "Price:Â£35.02\n",
      "\n",
      "Title:Our Band Could Be Your Life: Scenes from the American Indie Underground, 1981-1991\n",
      "Price:Â£57.25\n",
      "\n",
      "Title:Olio\n",
      "Price:Â£23.88\n",
      "\n",
      "Title:Mesaerion: The Best Science Fiction Stories 1800-1849\n",
      "Price:Â£37.59\n",
      "\n",
      "Title:Libertarianism for Beginners\n",
      "Price:Â£51.33\n",
      "\n",
      "Title:It's Only the Himalayas\n",
      "Price:Â£45.17\n",
      "\n"
     ]
    }
   ],
   "source": [
    "for book in books:\n",
    "    title = book.h3.a['title']\n",
    "    price = book.find('p',class_='price_color').text\n",
    "    print(f\"Title:{title}\\nPrice:{price}\\n\")\n",
    "    book_data.append({\"Title\":title,\"Price\":price})"
   ]
  },
  {
   "cell_type": "code",
   "execution_count": 22,
   "id": "2f5d2470-b438-47d9-b849-d4c385e647f0",
   "metadata": {},
   "outputs": [],
   "source": [
    "df= pd.DataFrame(book_data)"
   ]
  },
  {
   "cell_type": "code",
   "execution_count": 23,
   "id": "174b1c4b-5bf3-41a6-8ad5-d286d51cb5b4",
   "metadata": {},
   "outputs": [
    {
     "name": "stdout",
     "output_type": "stream",
     "text": [
      "                                                Title    Price\n",
      "0                                A Light in the Attic  Â£51.77\n",
      "1                                  Tipping the Velvet  Â£53.74\n",
      "2                                          Soumission  Â£50.10\n",
      "3                                       Sharp Objects  Â£47.82\n",
      "4               Sapiens: A Brief History of Humankind  Â£54.23\n",
      "5                                     The Requiem Red  Â£22.65\n",
      "6   The Dirty Little Secrets of Getting Your Dream...  Â£33.34\n",
      "7   The Coming Woman: A Novel Based on the Life of...  Â£17.93\n",
      "8   The Boys in the Boat: Nine Americans and Their...  Â£22.60\n",
      "9                                     The Black Maria  Â£52.15\n",
      "10     Starving Hearts (Triangular Trade Trilogy, #1)  Â£13.99\n",
      "11                              Shakespeare's Sonnets  Â£20.66\n",
      "12                                        Set Me Free  Â£17.46\n",
      "13  Scott Pilgrim's Precious Little Life (Scott Pi...  Â£52.29\n",
      "14                          Rip it Up and Start Again  Â£35.02\n",
      "15  Our Band Could Be Your Life: Scenes from the A...  Â£57.25\n",
      "16                                               Olio  Â£23.88\n",
      "17  Mesaerion: The Best Science Fiction Stories 18...  Â£37.59\n",
      "18                       Libertarianism for Beginners  Â£51.33\n",
      "19                            It's Only the Himalayas  Â£45.17\n"
     ]
    }
   ],
   "source": [
    "print(df)"
   ]
  },
  {
   "cell_type": "code",
   "execution_count": null,
   "id": "a4fdfd81-9ec5-4eb1-bbe7-8afd7fe2592d",
   "metadata": {},
   "outputs": [],
   "source": []
  }
 ],
 "metadata": {
  "kernelspec": {
   "display_name": "Python 3 (ipykernel)",
   "language": "python",
   "name": "python3"
  },
  "language_info": {
   "codemirror_mode": {
    "name": "ipython",
    "version": 3
   },
   "file_extension": ".py",
   "mimetype": "text/x-python",
   "name": "python",
   "nbconvert_exporter": "python",
   "pygments_lexer": "ipython3",
   "version": "3.13.5"
  }
 },
 "nbformat": 4,
 "nbformat_minor": 5
}
