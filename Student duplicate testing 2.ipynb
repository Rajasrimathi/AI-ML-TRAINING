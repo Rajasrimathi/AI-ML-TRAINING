{
 "cells": [
  {
   "cell_type": "code",
   "execution_count": 1,
   "id": "eee7928c-4a9d-493f-9926-6f95d7d3bb04",
   "metadata": {},
   "outputs": [],
   "source": [
    "import numpy as np\n"
   ]
  },
  {
   "cell_type": "code",
   "execution_count": 11,
   "id": "aaef786d-2909-45ea-ae1c-f482b7ced1f8",
   "metadata": {},
   "outputs": [],
   "source": [
    "import numpy as np  # Import NumPy first\n",
    "\n",
    "def mark_duplicates(ids):  # Define your function\n",
    "    seen = set()\n",
    "    result = []\n",
    "\n",
    "    for id in ids:\n",
    "        if id in seen:\n",
    "            result.append(True)\n",
    "        else:\n",
    "            seen.add(id)\n",
    "            result.append(False)\n",
    "\n",
    "    return np.array(result)  # This must be inside the function!\n"
   ]
  },
  {
   "cell_type": "code",
   "execution_count": 12,
   "id": "216f4ae8-c5e7-41fb-bc77-5d6d0062765f",
   "metadata": {},
   "outputs": [],
   "source": [
    "# Simulate one test case: 0 0 3 0 2 4 2 2 2 2\n",
    "ids_array = np.array([0, 0, 3, 0, 2, 4, 2, 2, 2, 2])\n",
    "\n"
   ]
  },
  {
   "cell_type": "code",
   "execution_count": 13,
   "id": "c8b8e1aa-91a2-4342-80ed-7d5f2ebcc6d2",
   "metadata": {},
   "outputs": [],
   "source": [
    "# Call the function\n",
    "output = mark_duplicates(ids_array)\n"
   ]
  },
  {
   "cell_type": "code",
   "execution_count": 15,
   "id": "ee879434-b5df-485e-b55f-6c6e22df03ad",
   "metadata": {},
   "outputs": [
    {
     "name": "stdout",
     "output_type": "stream",
     "text": [
      "Input IDs: [0 0 3 0 2 4 2 2 2 2]\n",
      "Duplicate Flags: [False  True False  True False False  True  True  True  True]\n"
     ]
    }
   ],
   "source": [
    "# ✅ Output\n",
    "print(\"Input IDs:\", ids_array)\n",
    "print(\"Duplicate Flags:\",output)"
   ]
  },
  {
   "cell_type": "code",
   "execution_count": null,
   "id": "f972d6be-c90d-428d-be26-f69b1e5cc2b8",
   "metadata": {},
   "outputs": [],
   "source": []
  }
 ],
 "metadata": {
  "kernelspec": {
   "display_name": "Python 3 (ipykernel)",
   "language": "python",
   "name": "python3"
  },
  "language_info": {
   "codemirror_mode": {
    "name": "ipython",
    "version": 3
   },
   "file_extension": ".py",
   "mimetype": "text/x-python",
   "name": "python",
   "nbconvert_exporter": "python",
   "pygments_lexer": "ipython3",
   "version": "3.13.5"
  }
 },
 "nbformat": 4,
 "nbformat_minor": 5
}
